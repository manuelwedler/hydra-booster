{
 "cells": [
  {
   "cell_type": "code",
   "execution_count": 14,
   "id": "1916ee7a",
   "metadata": {},
   "outputs": [],
   "source": [
    "# Imports\n",
    "import plyvel\n",
    "import json\n",
    "import re\n",
    "import matplotlib.pyplot as plt\n",
    "import matplotlib.ticker as mtick\n",
    "import numpy as np\n",
    "import datetime\n",
    "import dateutil"
   ]
  },
  {
   "cell_type": "code",
   "execution_count": 20,
   "id": "98078fb7",
   "metadata": {},
   "outputs": [],
   "source": [
    "# Toggle if plots are stored\n",
    "STORE_FIGURES = False"
   ]
  },
  {
   "cell_type": "code",
   "execution_count": 2,
   "id": "7e2087d2",
   "metadata": {},
   "outputs": [],
   "source": [
    "# Load data\n",
    "M01_PATH = './hydra-data/ipns-export-M01'\n",
    "M02_PATH = './hydra-data/ipns-export-M02'\n",
    "M03_PATH = './hydra-data/ipns-export-M03'\n",
    "M04_PATH = './hydra-data/ipns-export-M04'\n",
    "M05_PATH = './hydra-data/ipns-export-M05'\n",
    "\n",
    "T01_PATH = './hydra-data/timing-M01.txt'\n",
    "T02_PATH = './hydra-data/timing-M02.txt'\n",
    "T03_PATH = './hydra-data/timing-M03.txt'\n",
    "T04_PATH = './hydra-data/timing-M04.txt'\n",
    "T05_PATH = './hydra-data/timing-M05.txt'\n",
    "\n",
    "measurements = []\n",
    "timings = []\n",
    "\n",
    "for path in [M01_PATH, M02_PATH, M03_PATH, M04_PATH, M05_PATH]:\n",
    "    db = plyvel.DB(path)\n",
    "    try:\n",
    "        names = {}\n",
    "        for k, v in db:\n",
    "            key = k.decode('utf-8')\n",
    "            # only take versioned entry\n",
    "            match = re.search('/[0-9]+$', key)\n",
    "            if match:\n",
    "                record = json.loads(v)\n",
    "                record['version'] = int(match.group(0)[1:])\n",
    "                if not names.get(record['Name']):\n",
    "                    names[record['Name']] = []\n",
    "                names[record['Name']].append(record)\n",
    "        for name in names.keys():\n",
    "            names[name].sort(key=lambda n: n['version'])\n",
    "        measurements.append(names)\n",
    "    finally:\n",
    "        db.close()\n",
    "\n",
    "for path in [T01_PATH, T02_PATH, T03_PATH, T04_PATH, T05_PATH]:\n",
    "    with open(path) as f:\n",
    "        timings.append(f.read().splitlines())"
   ]
  },
  {
   "cell_type": "code",
   "execution_count": 16,
   "id": "065c18e0",
   "metadata": {},
   "outputs": [
    {
     "name": "stdout",
     "output_type": "stream",
     "text": [
      "P0: 32 names could not be resolved\n",
      "P1: 33 names could not be resolved\n",
      "P2: 3 names could not be resolved\n"
     ]
    }
   ],
   "source": [
    "# Resolve names again\n",
    "import aioipfs\n",
    "\n",
    "unresolved_for_measurement = []\n",
    "async with aioipfs.AsyncIPFS(maddr='/ip4/127.0.0.1/tcp/5001') as client:\n",
    "    for m in measurements:\n",
    "        unresolved = 0\n",
    "        for name in m.keys():\n",
    "            try:\n",
    "                x = await client.name.resolve(name=name, dht_timeout='60s')\n",
    "            except:\n",
    "                unresolved += 1\n",
    "        unresolved_for_measurement.append(unresolved)\n",
    "\n",
    "for i, n in enumerate(unresolved_for_measurement):\n",
    "    print(f'P{i}: {n} names could not be resolved')"
   ]
  },
  {
   "cell_type": "code",
   "execution_count": 17,
   "id": "5321db58",
   "metadata": {},
   "outputs": [
    {
     "name": "stdout",
     "output_type": "stream",
     "text": [
      "P0: 43 names\n",
      "P1: 51 names\n",
      "P2: 10 names\n",
      "P3: 157 names\n",
      "P4: 80 names\n",
      "P0: 176 records\n",
      "P1: 298 records\n",
      "P2: 29 records\n",
      "P3: 5643 records\n",
      "P4: 471 records\n",
      "P0: Head 12D3KooWLdeCVR2HubV1dUtPaTYEw4kRxfxqNSjnJuJnSmAevHtN: 9 names\n",
      "P0: Head 12D3KooWSyVw4rpJT9r33qUSMPKqfcopVEtQbqqnJbaGN6Nn4QUZ: 6 names\n",
      "P0: Head 12D3KooWMudEfbN4tnBfHYJU4k9f4jZVzF6yeoWN81RToXVnHCxT: 8 names\n",
      "P0: Head 12D3KooWFCJYprvZH24HTGM2A6mztm93sHmB5Lh49bD2FWoqF6W1: 12 names\n",
      "P0: Head 12D3KooWQEotLs18UEjmCMwjfVVZGSza1BdDJ6q9WFgs9aJvHrSZ: 8 names\n",
      "P1: Head 12D3KooWMFQTN5nt94AEN1ARGXLydWLVY46xqRb27p5DaPr6KfXN: 21 names\n",
      "P1: Head 12D3KooWRQRKBgbi32omNodqkE5VAeSPagNdcCkJCukKNUYgKF2X: 12 names\n",
      "P1: Head 12D3KooWKCZRGAV93WYJqnbmTbDY79pbCjDVATJkgkgPH7REfgo6: 7 names\n",
      "P1: Head 12D3KooWJcaqmT6upnyKEwBLU8Qqqc2GA2iTBWFw1sN622E8goPj: 9 names\n",
      "P1: Head 12D3KooWJfWJ3uT58YRxBHKnKCqZgzZXQP8ADSfv9Nt9RfW6p74t: 2 names\n",
      "P2: Head 12D3KooWNMgy4Eb4RTc3ocDRQxXte27xfxhs2eJGEQg4ZM8NxKYD: 3 names\n",
      "P2: Head 12D3KooWKpFHTpBjySKsr2vcoAxvZTkXvuUri5sJHUABWsRsw4gS: 3 names\n",
      "P2: Head 12D3KooWM6QvsMpopGgCrvtAFWzssavWbe9dAWFxos8SBiA41iry: 1 names\n",
      "P2: Head 12D3KooWEyCFbSdPxs1pxHTxoAN6hnWn1ckvVXsM1gTihoWWjjrc: 2 names\n",
      "P2: Head 12D3KooWC8uhFQx9sYiUrRJgKx9m9WV2Vsn1fWz9seHCgJKVcqp3: 1 names\n",
      "P3: Head 12D3KooWQxnT9K2sp1SRrDgY7y9okAq3rysuzEWJowBpgVKQ1o97: 12 names\n",
      "P3: Head 12D3KooWEoiVnFSbjeRfU8nmetxRWpDkZgbusLdPGcRCt9D2YVX2: 7 names\n",
      "P3: Head 12D3KooWR2sJ68CbQA25o51fchouYhN97J6saS89bvnv7sVz1TvL: 7 names\n",
      "P3: Head 12D3KooWRLG2XnXLMkDoFkoKXEPe6zh9SFhrLibpgpb4jMZCUr4o: 9 names\n",
      "P3: Head 12D3KooWDRD4b9vHjjHpJYKNqUBJAaadE7X2Yj5fcK1m4vUevbz2: 15 names\n",
      "P3: Head 12D3KooWJDRgTpenUWSD88us3GKPMN1mYru4cA229y3TEdLKjWEr: 6 names\n",
      "P3: Head 12D3KooWB5hdwvXdd9p2DwHZSDFACMVUo8XMTVUJvDmj7Uk2Fypa: 1 names\n",
      "P3: Head 12D3KooWDcvSSzZUf5GwKnSUJc2UzZR5r3uWSuZEDJnPpQmPfxDy: 14 names\n",
      "P3: Head 12D3KooWHoowg1MPGsgVq7S55Z3WyhSt6CEbx1ogWBFnyc7nrsJ4: 13 names\n",
      "P3: Head 12D3KooWKweZPLBURoKok2HfrvXUQVaCadpEjrVAefmRNGy4m1ce: 10 names\n",
      "P3: Head 12D3KooWAs9JD5dAyeRciY886xmWrY21V2jexvF5EYozvTnpkvvX: 7 names\n",
      "P3: Head 12D3KooWBw7fZKcmjNECva2uX3wFbp5vSjppAZZDDdMb6KuaYcQg: 7 names\n",
      "P3: Head 12D3KooWHnNRSjP8eEBJzuXBrhNatkZpknuEppVSqAyFk85PCz5R: 9 names\n",
      "P3: Head 12D3KooWAYbCTaa8iC111zPWCf4p3GvQUJgJcZZ9MEE1NudiwKSW: 9 names\n",
      "P3: Head 12D3KooWKwcUS1icn4FzabGK4D7x2Zf6V6iRyQeGcFGQJCADhx9K: 3 names\n",
      "P3: Head 12D3KooWLDJkktHMLpsAcXUkweLs6nKsGrxADNz1LfVPRmjTzNg8: 10 names\n",
      "P3: Head 12D3KooWSXBgZNXmFq4k4vpUFwN74RshDeFGgL9U9a841WKv97eq: 8 names\n",
      "P3: Head 12D3KooWGTEAUjuJ3hBVqda6pNoyTmnVfEva2Gv3HVqhzfbkYpSN: 5 names\n",
      "P3: Head 12D3KooWDVy5Q3BTGuFTn85v9RFdEVoJDD9F7x4qWsPHYznjQqhG: 4 names\n",
      "P3: Head 12D3KooWDGpNwg571AH8uKVPC7T4RFaALdTDW25gBAAn5qdmkov4: 1 names\n",
      "P4: Head 12D3KooWHDgnpNTABD7J2sx6Pnf1r3JvNSU1tXEcxfdc9ssN36Wm: 11 names\n",
      "P4: Head 12D3KooWKoQJ1bDhbxx2b6ZXhtyMtuLyxqVw91Jge5SKYJGVbsHV: 13 names\n",
      "P4: Head 12D3KooWL3HvsPJKuQCvmXpS2g3nyyDmDD8iBqARJNfmg8kC6gDs: 7 names\n",
      "P4: Head 12D3KooWF3No8wbH2WAWdphyppVVLpBWkZwQ2qkVGu4B39R1Sf8E: 13 names\n",
      "P4: Head 12D3KooWKW2F1psz2b5ZhfsJXFTLNrNboaSzuUuR11Q5cMFhSDRP: 8 names\n",
      "P4: Head 12D3KooWJBtccZQhYSn4k5yx8ng24ZJsvaWvhufQLESVPnBLtYqj: 5 names\n",
      "P4: Head 12D3KooW9vYzCkyiSRTgqLxXXYqTuF9p9Q2wugYZyv2KxPio5iVr: 5 names\n",
      "P4: Head 12D3KooWARhJiAMPuHLWmzP9XkW1PL3EWyT47psyzvCPRTUDnuL1: 8 names\n",
      "P4: Head 12D3KooWR5MKN7q7rDUVcmibULseqRqpQY7FXzWgykZhfLGLBhbf: 3 names\n",
      "P4: Head 12D3KooWKPcsr3gT7RLRQq5i2UoVxP4X9MAw7qsLsRENPDRABcVN: 7 names\n"
     ]
    }
   ],
   "source": [
    "# General statistics\n",
    "\n",
    "num_names = []\n",
    "num_received_records = [] # includes records which were received multiple times\n",
    "num_per_head = []\n",
    "for m in measurements:\n",
    "    num_names.append(len(m))\n",
    "    \n",
    "    num_received = 0\n",
    "    for v in m.values():\n",
    "        num_received += len(v)\n",
    "    num_received_records.append(num_received)\n",
    "\n",
    "    names_per_head = {}\n",
    "    for k in m.keys():\n",
    "        # only first time received\n",
    "        if not names_per_head.get(m[k][0]['ReceivingHead']):\n",
    "            names_per_head[m[k][0]['ReceivingHead']] = 0\n",
    "        names_per_head[m[k][0]['ReceivingHead']] += 1\n",
    "    num_per_head.append(names_per_head)\n",
    "\n",
    "\n",
    "for i, n in enumerate(num_names):\n",
    "    print(f'P{i}: {n} names')\n",
    "\n",
    "for i, r in enumerate(num_received_records):\n",
    "    print(f'P{i}: {r} records')\n",
    "\n",
    "for i, head_dict in enumerate(num_per_head):\n",
    "    for h, n in head_dict.items():\n",
    "        print(f'P{i}: Head {h}: {n} names')\n",
    "\n"
   ]
  },
  {
   "cell_type": "code",
   "execution_count": 18,
   "id": "51b89e63",
   "metadata": {},
   "outputs": [
    {
     "name": "stdout",
     "output_type": "stream",
     "text": [
      "P1: QmS9D6ixtJUpunhVnvrfYkocHUUgcMBVg9mJt9HB3spK4U: 1 values for same name were updated\n",
      "P3: QmXdA1pRekpjawPLFWvYVs53ckLi6eeK4uuyfWDmktyL9g: 3 values for same name were updated\n",
      "P3: Qma9r3a7gKM8Lygg8TMV15WomMiQyCufKX9kQ1PPrE1HuD: 1 values for same name were updated\n",
      "P3: Qmc53pAaYfPPDaPZLPpV8gd46BPjPJE5qsJ2edng4roYSc: 6 values for same name were updated\n",
      "P3: Qmckqmzv6v3qppgZ6nyxPGQmQjAtr6EAZWBv3JDHRDp67E: 1 values for same name were updated\n",
      "P4: 12D3KooWEn2aHhf8AA5bfogeCHbaeTwpeKtN31acWzkXjGbPEb5h: 1 values for same name were updated\n"
     ]
    }
   ],
   "source": [
    "# Value updates\n",
    "\n",
    "num_value_updates = []\n",
    "for m in measurements:\n",
    "    counts = {}\n",
    "    for record_updates in m.values():\n",
    "        previous = None\n",
    "        for record in record_updates:\n",
    "            if not previous:\n",
    "                previous = record\n",
    "                continue\n",
    "\n",
    "            if previous['Value'] != record['Value']:\n",
    "                if not counts.get(record['Name']):\n",
    "                    counts[record['Name']] = 0\n",
    "                counts[record['Name']] += 1\n",
    "                \n",
    "            previous = record\n",
    "    num_value_updates.append(counts)\n",
    "\n",
    "for i, c in enumerate(num_value_updates):\n",
    "    for n in c.keys():\n",
    "        print(f'P{i}: {n}: {c[n]} values for same name were updated')\n"
   ]
  },
  {
   "cell_type": "code",
   "execution_count": 21,
   "id": "f918688b",
   "metadata": {},
   "outputs": [
    {
     "name": "stdout",
     "output_type": "stream",
     "text": [
      "Max provisions per name:  4661\n"
     ]
    },
    {
     "data": {
      "image/png": "[encoded data removed]",
      "text/plain": [
       "<Figure size 432x288 with 1 Axes>"
      ]
     },
     "metadata": {
      "needs_background": "light"
     },
     "output_type": "display_data"
    }
   ],
   "source": [
    "# Number of provisions\n",
    "\n",
    "max_times = 0\n",
    "for m in measurements:\n",
    "    for k in m.keys():\n",
    "        num_provisions = len(m[k]) - 1\n",
    "        if num_provisions > max_times:\n",
    "            max_times = num_provisions\n",
    "\n",
    "print('Max provisions per name: ', max_times)\n",
    "\n",
    "labels = [*range(1, 7), '7 or more']\n",
    "provisions_for_measurements = []\n",
    "\n",
    "for m in measurements:\n",
    "    provisions = []\n",
    "    for _ in range(7):\n",
    "        provisions.append(0)\n",
    "\n",
    "    for k in m.keys():\n",
    "        num_provisions = len(m[k])\n",
    "        if num_provisions < len(labels):\n",
    "            provisions[num_provisions - 1] += 1\n",
    "        else:\n",
    "            provisions[-1] += 1\n",
    "    \n",
    "    provisions_for_measurements.append(provisions)\n",
    "\n",
    "use_percentages = True\n",
    "\n",
    "if use_percentages:\n",
    "    for (i, total) in enumerate(num_names):\n",
    "        for (j, provisions) in enumerate(provisions_for_measurements[i]):\n",
    "            provisions_for_measurements[i][j] = round(provisions / total, 2)\n",
    "\n",
    "x = np.arange(len(labels))\n",
    "width = 0.1\n",
    "\n",
    "fig, ax = plt.subplots()\n",
    "ax.bar(x - 2*width, provisions_for_measurements[0], width, label='P0')\n",
    "ax.bar(x - width, provisions_for_measurements[1], width, label='P1')\n",
    "ax.bar(x, provisions_for_measurements[2], width, label='P2')\n",
    "ax.bar(x + width, provisions_for_measurements[3], width, label='P3')\n",
    "ax.bar(x + 2*width, provisions_for_measurements[4], width, label='P4')\n",
    "\n",
    "ax.set_ylabel('Relative frequency')\n",
    "ax.set_xlabel('Times name was provided')\n",
    "ax.set_xticks(x, labels)\n",
    "ax.legend()\n",
    "\n",
    "fig.tight_layout()\n",
    "\n",
    "if STORE_FIGURES:\n",
    "    plt.savefig('./pics/provision-times.svg', format='svg')\n",
    "plt.show()"
   ]
  },
  {
   "cell_type": "code",
   "execution_count": 22,
   "metadata": {},
   "outputs": [
    {
     "data": {
      "image/png": "[encoded data removed]",
      "text/plain": [
       "<Figure size 432x288 with 1 Axes>"
      ]
     },
     "metadata": {
      "needs_background": "light"
     },
     "output_type": "display_data"
    }
   ],
   "source": [
    "# Provisions per weekday\n",
    "\n",
    "labels = ['Mon', 'Tue', 'Wed', 'Thu', 'Fri', 'Sat', 'Sun']\n",
    "provisions_per_weekday = []\n",
    "num_records = []\n",
    "\n",
    "# last one is only over a day\n",
    "for m in measurements:\n",
    "    provisions = []\n",
    "    records = 0\n",
    "    for _ in range(len(labels)):\n",
    "        provisions.append(0)\n",
    "\n",
    "    for record_updates in m.values():\n",
    "        for record in record_updates:\n",
    "            d = datetime.datetime.fromisoformat(record['ReceiveTime']).replace(tzinfo=datetime.timezone.utc)\n",
    "            d -= datetime.timedelta(hours=2)\n",
    "            provisions[d.weekday()] += 1\n",
    "            records += 1\n",
    "\n",
    "    provisions_per_weekday.append(provisions)\n",
    "    num_records.append(records)\n",
    "\n",
    "use_percentages = True\n",
    "\n",
    "if use_percentages:\n",
    "    for (i, total) in enumerate(num_records):\n",
    "        for (j, provisions) in enumerate(provisions_per_weekday[i]):\n",
    "            provisions_per_weekday[i][j] = round(provisions / total, 2)\n",
    "\n",
    "x = np.arange(len(labels))\n",
    "width = 0.1\n",
    "\n",
    "fig, ax = plt.subplots()\n",
    "ax.bar(x - 3/2 * width, provisions_per_weekday[0], width, label='P0')\n",
    "ax.bar(x - 1/2 * width, provisions_per_weekday[1], width, label='P1')\n",
    "ax.bar(x + 1/2 * width, provisions_per_weekday[3], width, label='P3')\n",
    "ax.bar(x + 3/2 * width, provisions_per_weekday[4], width, label='P4')\n",
    "\n",
    "ax.set_ylabel('Relative frequency')\n",
    "ax.set_xlabel('Provisions per weekday')\n",
    "ax.set_xticks(x, labels)\n",
    "ax.legend()\n",
    "\n",
    "fig.tight_layout()\n",
    "\n",
    "if STORE_FIGURES:\n",
    "    plt.savefig('./pics/provisions-per-weekday.svg', format='svg')\n",
    "plt.show()"
   ]
  },
  {
   "cell_type": "code",
   "execution_count": 23,
   "id": "374d6da6",
   "metadata": {},
   "outputs": [
    {
     "name": "stdout",
     "output_type": "stream",
     "text": [
      "P0: 1 records not resolved\n",
      "P1: 4 records not resolved\n",
      "P2: 0 records not resolved\n",
      "P3: 5103 records not resolved\n",
      "P4: 367 records not resolved\n",
      "P0: 1 names not resolved\n",
      "P1: 2 names not resolved\n",
      "P2: 0 names not resolved\n",
      "P3: 145 names not resolved\n",
      "P4: 72 names not resolved\n"
     ]
    },
    {
     "data": {
      "image/png": "[encoded data removed]",
      "text/plain": [
       "<Figure size 432x288 with 1 Axes>"
      ]
     },
     "metadata": {
      "needs_background": "light"
     },
     "output_type": "display_data"
    }
   ],
   "source": [
    "# Access times\n",
    "\n",
    "accesses_for_measurements = []\n",
    "steps = []\n",
    "not_resolved_for_measurements = []\n",
    "not_resolved_names_for_measurements = []\n",
    "for m in measurements:\n",
    "    accesses = []\n",
    "    not_resolved = 0\n",
    "    not_resolved_names = {}\n",
    "    for k in m.keys():\n",
    "        for record in m[k]:\n",
    "            if record.get('NameResolveTime'):\n",
    "                accesses.append(record['NameResolveTime'])\n",
    "            else:\n",
    "                not_resolved += 1\n",
    "                not_resolved_names[k] = True\n",
    "    accesses_for_measurements.append(np.sort(accesses))\n",
    "    steps.append(np.array(range(len(accesses)))/float(len(accesses)))\n",
    "    not_resolved_for_measurements.append(not_resolved)\n",
    "    not_resolved_names_for_measurements.append(not_resolved_names)\n",
    "\n",
    "for i, v in enumerate(not_resolved_for_measurements):\n",
    "    print(f'P{i}: {v} records not resolved')\n",
    "    \n",
    "for i, v in enumerate(not_resolved_names_for_measurements):\n",
    "    print(f'P{i}: {len(v)} names not resolved')\n",
    "\n",
    "fig, ax = plt.subplots()\n",
    "\n",
    "ax.plot(accesses_for_measurements[0], steps[0], label='P0')\n",
    "ax.plot(accesses_for_measurements[1], steps[1], label='P1')\n",
    "ax.plot(accesses_for_measurements[2], steps[2], label='P2')\n",
    "ax.plot(accesses_for_measurements[3], steps[3], label='P3')\n",
    "ax.plot(accesses_for_measurements[4], steps[4], label='P4')\n",
    "\n",
    "ax.set_ylabel('CDF') # ECDF\n",
    "ax.set_xlabel('Time to resolve name / ms')\n",
    "ax.legend()\n",
    "\n",
    "fig.tight_layout()\n",
    "\n",
    "plt.xscale('log')\n",
    "\n",
    "if STORE_FIGURES:\n",
    "    plt.savefig('./pics/resolution-times.svg', format='svg')\n",
    "plt.show()\n"
   ]
  },
  {
   "cell_type": "code",
   "execution_count": 24,
   "id": "b001c48a",
   "metadata": {},
   "outputs": [
    {
     "name": "stdout",
     "output_type": "stream",
     "text": [
      "P0: 23 expired, 20 not expired\n",
      "P0 relative: 0.53 expired, 0.47 not expired\n",
      "P1: 34 expired, 17 not expired\n",
      "P1 relative: 0.67 expired, 0.33 not expired\n",
      "P2: 0 expired, 10 not expired\n",
      "P2 relative: 0.0 expired, 1.0 not expired\n",
      "P3: 97 expired, 60 not expired\n",
      "P3 relative: 0.62 expired, 0.38 not expired\n",
      "P4: 52 expired, 28 not expired\n",
      "P4 relative: 0.65 expired, 0.35 not expired\n"
     ]
    }
   ],
   "source": [
    "# Expiries\n",
    "\n",
    "expiries = []\n",
    "\n",
    "for i, m in enumerate(measurements):\n",
    "    expired = 0\n",
    "    not_expired = 0\n",
    "    end_time_string = timings[i][1]\n",
    "    end_time = datetime.datetime.fromisoformat(end_time_string)\n",
    "    for records in m.values():\n",
    "        validity = dateutil.parser.parse(records[-1]['Validity'])\n",
    "        if validity < end_time:\n",
    "            expired += 1\n",
    "        else:\n",
    "            not_expired += 1\n",
    "    expiries.append((expired, not_expired))\n",
    "        \n",
    "for i, v in enumerate(expiries):\n",
    "    print(f'P{i}: {v[0]} expired, {v[1]} not expired')\n",
    "    print(f'P{i} relative: {round(v[0] / num_names[i], 2)} expired, {round(v[1] / num_names[i], 2)} not expired')          \n",
    "\n"
   ]
  },
  {
   "cell_type": "code",
   "execution_count": 25,
   "id": "140dcd22",
   "metadata": {},
   "outputs": [
    {
     "name": "stdout",
     "output_type": "stream",
     "text": [
      "P0: 0 expired when received\n",
      "P1: 0 expired when received\n",
      "P2: 0 expired when received\n",
      "P3: 0 expired when received\n",
      "P4: 0 expired when received\n",
      "Highest validity: 36401.27963563779 days (P3)\n"
     ]
    },
    {
     "data": {
      "image/png": "[encoded data removed]",
      "text/plain": [
       "<Figure size 432x288 with 1 Axes>"
      ]
     },
     "metadata": {
      "needs_background": "light"
     },
     "output_type": "display_data"
    }
   ],
   "source": [
    "# Lifetimes\n",
    "lifetimes_for_measurements = []\n",
    "steps = []\n",
    "already_expired = []\n",
    "highest_validity_period = None\n",
    "highest_validity = 0\n",
    "for i, m in enumerate(measurements):\n",
    "    lifetime = []\n",
    "    expired = 0\n",
    "    for k in m.keys():\n",
    "        for record in m[k]:\n",
    "            received = dateutil.parser.parse(record['ReceiveTime'])\n",
    "            validity = dateutil.parser.parse(record['Validity'])\n",
    "            days = (validity - received).total_seconds() / 60 / 60 / 24\n",
    "            if days > highest_validity:\n",
    "                highest_validity_period = i\n",
    "                highest_validity = days\n",
    "            if days <= 0:\n",
    "                expired += 1\n",
    "            lifetime.append(days)\n",
    "    lifetimes_for_measurements.append(np.sort(lifetime))\n",
    "    steps.append(np.array(range(len(lifetime)))/float(len(lifetime)))\n",
    "    already_expired.append(expired)\n",
    "\n",
    "for i, v in enumerate(already_expired):\n",
    "    print(f'P{i}: {v} expired when received')\n",
    "\n",
    "print(f'Highest validity: {highest_validity} days (P{highest_validity_period})')\n",
    "    \n",
    "fig, ax = plt.subplots()\n",
    "\n",
    "ax.plot(lifetimes_for_measurements[0], steps[0], label='P0')\n",
    "ax.plot(lifetimes_for_measurements[1], steps[1], label='P1')\n",
    "ax.plot(lifetimes_for_measurements[2], steps[2], label='P2')\n",
    "ax.plot(lifetimes_for_measurements[3], steps[3], label='P3')\n",
    "ax.plot(lifetimes_for_measurements[4], steps[4], label='P4')\n",
    "\n",
    "ax.set_ylabel('CDF') # ECDF\n",
    "ax.set_xlabel('Lifetime / d')\n",
    "ax.legend()\n",
    "\n",
    "fig.tight_layout()\n",
    "\n",
    "plt.xscale('log')\n",
    "\n",
    "if STORE_FIGURES:\n",
    "    plt.savefig('./pics/lifetimes.svg', format='svg')\n",
    "plt.show()"
   ]
  },
  {
   "cell_type": "code",
   "execution_count": 26,
   "id": "186379a2",
   "metadata": {},
   "outputs": [
    {
     "name": "stdout",
     "output_type": "stream",
     "text": [
      "P0: 119 retrievable, 57 not retrievable\n",
      "P0 relative: 0.68 retrievable, 0.32 not retrievable\n",
      "P1: 261 retrievable, 37 not retrievable\n",
      "P1 relative: 0.88 retrievable, 0.12 not retrievable\n",
      "P2: 25 retrievable, 4 not retrievable\n",
      "P2 relative: 0.86 retrievable, 0.14 not retrievable\n",
      "P3: 534 retrievable, 5109 not retrievable\n",
      "P3 relative: 0.09 retrievable, 0.91 not retrievable\n",
      "P4: 92 retrievable, 379 not retrievable\n",
      "P4 relative: 0.2 retrievable, 0.8 not retrievable\n"
     ]
    }
   ],
   "source": [
    "# Content retrievability\n",
    "\n",
    "retrievability = []\n",
    "for m in measurements:\n",
    "    retrievable = 0\n",
    "    not_retrievable = 0\n",
    "    for k in m.keys():\n",
    "        for record in m[k]:\n",
    "            if record.get('ContentUnreachable'):\n",
    "                not_retrievable += 1\n",
    "            else: \n",
    "                retrievable += 1\n",
    "    retrievability.append((retrievable, not_retrievable))\n",
    "    \n",
    "for i, v in enumerate(retrievability):\n",
    "    print(f'P{i}: {v[0]} retrievable, {v[1]} not retrievable')\n",
    "    print(f'P{i} relative: {round(v[0] / num_received_records[i], 2)} retrievable, {round(v[1] / num_received_records[i], 2)} not retrievable')"
   ]
  },
  {
   "cell_type": "code",
   "execution_count": 27,
   "id": "b67c0566",
   "metadata": {},
   "outputs": [
    {
     "name": "stdout",
     "output_type": "stream",
     "text": [
      "Duplicates: {'12D3KooWBSzKfncXzUeVGkQUCB5WJFyJEc46ugrHzjZDraZ8ZnkL', 'QmR3qRyp4tGF2R5ETGZaRM4aNLGKwYgEHqdccu5hacagDC', '12D3KooWSxCfqm2v914NcEQUVSjUVdXEY3smyawtWnTqmyYnP3EV', '12D3KooWHfJuKZfj35u6rbaExkdQRSka5GX3zDc91CGnGc33QQqb'}\n",
      "12D3KooWBSzKfncXzUeVGkQUCB5WJFyJEc46ugrHzjZDraZ8ZnkL: P3\n",
      "12D3KooWBSzKfncXzUeVGkQUCB5WJFyJEc46ugrHzjZDraZ8ZnkL: P4\n",
      "QmR3qRyp4tGF2R5ETGZaRM4aNLGKwYgEHqdccu5hacagDC: P0\n",
      "QmR3qRyp4tGF2R5ETGZaRM4aNLGKwYgEHqdccu5hacagDC: P1\n",
      "QmR3qRyp4tGF2R5ETGZaRM4aNLGKwYgEHqdccu5hacagDC: P3\n",
      "12D3KooWSxCfqm2v914NcEQUVSjUVdXEY3smyawtWnTqmyYnP3EV: P3\n",
      "12D3KooWSxCfqm2v914NcEQUVSjUVdXEY3smyawtWnTqmyYnP3EV: P4\n",
      "12D3KooWHfJuKZfj35u6rbaExkdQRSka5GX3zDc91CGnGc33QQqb: P2\n",
      "12D3KooWHfJuKZfj35u6rbaExkdQRSka5GX3zDc91CGnGc33QQqb: P4\n"
     ]
    }
   ],
   "source": [
    "# Duplicate names?\n",
    "\n",
    "duplicates = []\n",
    "for m in measurements:\n",
    "    for n in measurements:\n",
    "        if m != n:\n",
    "            duplicates += [x for x in m.keys() if x in n.keys()]\n",
    "\n",
    "print(f'Duplicates: {set(duplicates)}')\n",
    "\n",
    "for n in set(duplicates):\n",
    "    for i, m in enumerate(measurements):\n",
    "        if n in m.keys():\n",
    "            print(f'{n}: P{i}')"
   ]
  },
  {
   "cell_type": "code",
   "execution_count": 29,
   "id": "31934d66",
   "metadata": {},
   "outputs": [],
   "source": [
    "# Duplicate values?\n",
    "\n",
    "name_value_pairs = set()\n",
    "for m in measurements:\n",
    "    for name in m.keys():\n",
    "        for record in m[name]:\n",
    "            name_value_pairs.add((name, record['Value']))\n",
    "\n",
    "duplicates = []\n",
    "\n",
    "for a in name_value_pairs:\n",
    "    for b in name_value_pairs:\n",
    "        if a != b and a[1] == b[1]:\n",
    "            duplicates.append(a)\n",
    "            duplicates.append(b)\n",
    "\n",
    "# print(f'Duplicates: {duplicates}')\n",
    "# TODO finalize"
   ]
  }
 ],
 "metadata": {
  "kernelspec": {
   "display_name": "Python 3.8.10 64-bit",
   "language": "python",
   "name": "python3"
  },
  "language_info": {
   "codemirror_mode": {
    "name": "ipython",
    "version": 3
   },
   "file_extension": ".py",
   "mimetype": "text/x-python",
   "name": "python",
   "nbconvert_exporter": "python",
   "pygments_lexer": "ipython3",
   "version": "3.8.10"
  },
  "vscode": {
   "interpreter": {
    "hash": "e7370f93d1d0cde622a1f8e1c04877d8463912d04d973331ad4851f04de6915a"
   }
  }
 },
 "nbformat": 4,
 "nbformat_minor": 5
}
