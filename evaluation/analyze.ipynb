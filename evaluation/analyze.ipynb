{
 "cells": [
  {
   "cell_type": "code",
   "execution_count": 45,
   "id": "1916ee7a",
   "metadata": {},
   "outputs": [],
   "source": [
    "# Imports\n",
    "import plyvel\n",
    "import json\n",
    "import re\n",
    "import matplotlib.pyplot as plt\n",
    "import matplotlib.ticker as mtick\n",
    "import numpy as np\n",
    "import datetime\n",
    "import dateutil"
   ]
  },
  {
   "cell_type": "code",
   "execution_count": 36,
   "id": "7e2087d2",
   "metadata": {},
   "outputs": [],
   "source": [
    "# Load data\n",
    "M01_PATH = './hydra-data/ipns-export-M01'\n",
    "M02_PATH = './hydra-data/ipns-export-M02'\n",
    "M03_PATH = './hydra-data/ipns-export-M03'\n",
    "\n",
    "T01_PATH = './hydra-data/timing-M01.txt'\n",
    "T02_PATH = './hydra-data/timing-M02.txt'\n",
    "T03_PATH = './hydra-data/timing-M03.txt'\n",
    "\n",
    "measurements = []\n",
    "timings = []\n",
    "\n",
    "for path in [M01_PATH, M02_PATH, M03_PATH]:\n",
    "    db = plyvel.DB(path)\n",
    "    try:\n",
    "        names = {}\n",
    "        for k, v in db:\n",
    "            key = k.decode('utf-8')\n",
    "            # only take versioned entry\n",
    "            match = re.search('/[0-9]+$', key)\n",
    "            if match:\n",
    "                record = json.loads(v)\n",
    "                record['version'] = int(match.group(0)[1:])\n",
    "                if not names.get(record['Name']):\n",
    "                    names[record['Name']] = []\n",
    "                names[record['Name']].append(record)\n",
    "        for name in names.keys():\n",
    "            names[name].sort(key=lambda n: n['version'])\n",
    "        measurements.append(names)\n",
    "    finally:\n",
    "        db.close()\n",
    "\n",
    "for path in [T01_PATH, T02_PATH, T03_PATH]:\n",
    "    with open(path) as f:\n",
    "        timings.append(f.read().splitlines())"
   ]
  },
  {
   "cell_type": "code",
   "execution_count": 28,
   "id": "5321db58",
   "metadata": {},
   "outputs": [
    {
     "name": "stdout",
     "output_type": "stream",
     "text": [
      "P0: 43 names\n",
      "P1: 51 names\n",
      "P2: 10 names\n",
      "P0: 176 records\n",
      "P1: 298 records\n",
      "P2: 29 records\n",
      "P0: Head 12D3KooWLdeCVR2HubV1dUtPaTYEw4kRxfxqNSjnJuJnSmAevHtN: 9 names\n",
      "P0: Head 12D3KooWSyVw4rpJT9r33qUSMPKqfcopVEtQbqqnJbaGN6Nn4QUZ: 6 names\n",
      "P0: Head 12D3KooWMudEfbN4tnBfHYJU4k9f4jZVzF6yeoWN81RToXVnHCxT: 8 names\n",
      "P0: Head 12D3KooWFCJYprvZH24HTGM2A6mztm93sHmB5Lh49bD2FWoqF6W1: 12 names\n",
      "P0: Head 12D3KooWQEotLs18UEjmCMwjfVVZGSza1BdDJ6q9WFgs9aJvHrSZ: 8 names\n",
      "P1: Head 12D3KooWMFQTN5nt94AEN1ARGXLydWLVY46xqRb27p5DaPr6KfXN: 21 names\n",
      "P1: Head 12D3KooWRQRKBgbi32omNodqkE5VAeSPagNdcCkJCukKNUYgKF2X: 12 names\n",
      "P1: Head 12D3KooWKCZRGAV93WYJqnbmTbDY79pbCjDVATJkgkgPH7REfgo6: 7 names\n",
      "P1: Head 12D3KooWJcaqmT6upnyKEwBLU8Qqqc2GA2iTBWFw1sN622E8goPj: 9 names\n",
      "P1: Head 12D3KooWJfWJ3uT58YRxBHKnKCqZgzZXQP8ADSfv9Nt9RfW6p74t: 2 names\n",
      "P2: Head 12D3KooWNMgy4Eb4RTc3ocDRQxXte27xfxhs2eJGEQg4ZM8NxKYD: 3 names\n",
      "P2: Head 12D3KooWKpFHTpBjySKsr2vcoAxvZTkXvuUri5sJHUABWsRsw4gS: 3 names\n",
      "P2: Head 12D3KooWM6QvsMpopGgCrvtAFWzssavWbe9dAWFxos8SBiA41iry: 1 names\n",
      "P2: Head 12D3KooWEyCFbSdPxs1pxHTxoAN6hnWn1ckvVXsM1gTihoWWjjrc: 2 names\n",
      "P2: Head 12D3KooWC8uhFQx9sYiUrRJgKx9m9WV2Vsn1fWz9seHCgJKVcqp3: 1 names\n"
     ]
    }
   ],
   "source": [
    "# General statistics\n",
    "\n",
    "num_names = []\n",
    "num_received_records = [] # includes records which were received multiple times\n",
    "num_per_head = []\n",
    "for m in measurements:\n",
    "    num_names.append(len(m))\n",
    "    \n",
    "    num_received = 0\n",
    "    for v in m.values():\n",
    "        num_received += len(v)\n",
    "    num_received_records.append(num_received)\n",
    "\n",
    "    names_per_head = {}\n",
    "    for k in m.keys():\n",
    "        # only first time received\n",
    "        if not names_per_head.get(m[k][0]['ReceivingHead']):\n",
    "            names_per_head[m[k][0]['ReceivingHead']] = 0\n",
    "        names_per_head[m[k][0]['ReceivingHead']] += 1\n",
    "    num_per_head.append(names_per_head)\n",
    "\n",
    "\n",
    "for i, n in enumerate(num_names):\n",
    "    print(f'P{i}: {n} names')\n",
    "\n",
    "for i, r in enumerate(num_received_records):\n",
    "    print(f'P{i}: {r} records')\n",
    "\n",
    "for i, head_dict in enumerate(num_per_head):\n",
    "    for h, n in head_dict.items():\n",
    "        print(f'P{i}: Head {h}: {n} names')\n",
    "\n"
   ]
  },
  {
   "cell_type": "code",
   "execution_count": 27,
   "id": "51b89e63",
   "metadata": {},
   "outputs": [
    {
     "name": "stdout",
     "output_type": "stream",
     "text": [
      "P0: 0 values for same name were updated\n",
      "P1: 1 values for same name were updated\n",
      "P2: 0 values for same name were updated\n"
     ]
    }
   ],
   "source": [
    "# Value updates\n",
    "\n",
    "num_value_updates = []\n",
    "for m in measurements:\n",
    "    count = 0\n",
    "    for record_updates in m.values():\n",
    "        previous = None\n",
    "        for record in record_updates:\n",
    "            if not previous:\n",
    "                previous = record\n",
    "                continue\n",
    "\n",
    "            if previous['Value'] != record['Value']:\n",
    "                count += 1\n",
    "                \n",
    "            previous = record\n",
    "    num_value_updates.append(count)\n",
    "\n",
    "for i, v in enumerate(num_value_updates):\n",
    "    print(f'P{i}: {v} values for same name were updated')\n"
   ]
  },
  {
   "cell_type": "code",
   "execution_count": 39,
   "id": "f918688b",
   "metadata": {},
   "outputs": [
    {
     "name": "stdout",
     "output_type": "stream",
     "text": [
      "Max provisions per name:  43\n"
     ]
    },
    {
     "data": {
      "image/png": "[encoded data removed]",
      "text/plain": [
       "<Figure size 432x288 with 1 Axes>"
      ]
     },
     "metadata": {
      "needs_background": "light"
     },
     "output_type": "display_data"
    }
   ],
   "source": [
    "# Number of provisions\n",
    "\n",
    "max_times = 0\n",
    "for m in measurements:\n",
    "    for k in m.keys():\n",
    "        num_provisions = len(m[k]) - 1\n",
    "        if num_provisions > max_times:\n",
    "            max_times = num_provisions\n",
    "\n",
    "print('Max provisions per name: ', max_times)\n",
    "\n",
    "labels = [*range(1, 7), '7 or more']\n",
    "provisions_for_measurements = []\n",
    "\n",
    "for m in measurements:\n",
    "    provisions = []\n",
    "    for _ in range(7):\n",
    "        provisions.append(0)\n",
    "\n",
    "    for k in m.keys():\n",
    "        num_provisions = len(m[k])\n",
    "        if num_provisions < len(labels):\n",
    "            provisions[num_provisions - 1] += 1\n",
    "        else:\n",
    "            provisions[-1] += 1\n",
    "    \n",
    "    provisions_for_measurements.append(provisions)\n",
    "\n",
    "use_percentages = True\n",
    "\n",
    "if use_percentages:\n",
    "    for (i, total) in enumerate(num_names):\n",
    "        for (j, provisions) in enumerate(provisions_for_measurements[i]):\n",
    "            provisions_for_measurements[i][j] = round(provisions / total, 2)\n",
    "\n",
    "x = np.arange(len(labels))\n",
    "width = 0.2\n",
    "\n",
    "fig, ax = plt.subplots()\n",
    "ax.bar(x - width, provisions_for_measurements[0], width, label='P0')\n",
    "ax.bar(x, provisions_for_measurements[1], width, label='P1')\n",
    "ax.bar(x + width, provisions_for_measurements[2], width, label='P2')\n",
    "\n",
    "ax.set_ylabel('Relative frequency')\n",
    "ax.set_xlabel('Times name was provided')\n",
    "ax.set_xticks(x, labels)\n",
    "ax.legend()\n",
    "\n",
    "fig.tight_layout()\n",
    "\n",
    "plt.show()"
   ]
  },
  {
   "cell_type": "code",
   "execution_count": 26,
   "metadata": {},
   "outputs": [
    {
     "data": {
      "image/png": "[encoded data removed]",
      "text/plain": [
       "<Figure size 432x288 with 1 Axes>"
      ]
     },
     "metadata": {
      "needs_background": "light"
     },
     "output_type": "display_data"
    }
   ],
   "source": [
    "# Provisions per weekday\n",
    "\n",
    "labels = ['Mon', 'Tue', 'Wed', 'Thu', 'Fri', 'Sat', 'Sun']\n",
    "provisions_per_weekday = []\n",
    "num_records = []\n",
    "\n",
    "# last one is only over a day\n",
    "for m in measurements[:2]:\n",
    "    provisions = []\n",
    "    records = 0\n",
    "    for _ in range(len(labels)):\n",
    "        provisions.append(0)\n",
    "\n",
    "    for record_updates in m.values():\n",
    "        for record in record_updates:\n",
    "            d = datetime.datetime.fromisoformat(record['ReceiveTime']).replace(tzinfo=datetime.timezone.utc)\n",
    "            d -= datetime.timedelta(hours=2)\n",
    "            provisions[d.weekday()] += 1\n",
    "            records += 1\n",
    "\n",
    "    provisions_per_weekday.append(provisions)\n",
    "    num_records.append(records)\n",
    "\n",
    "use_percentages = True\n",
    "\n",
    "if use_percentages:\n",
    "    for (i, total) in enumerate(num_records):\n",
    "        for (j, provisions) in enumerate(provisions_per_weekday[i]):\n",
    "            provisions_per_weekday[i][j] = round(provisions / total, 2)\n",
    "\n",
    "x = np.arange(len(labels))\n",
    "width = 0.2\n",
    "\n",
    "fig, ax = plt.subplots()\n",
    "ax.bar(x - 1/2 * width, provisions_per_weekday[0], width, label='P0')\n",
    "ax.bar(x + 1/2 * width, provisions_per_weekday[1], width, label='P1')\n",
    "\n",
    "ax.set_ylabel('Relative frequency')\n",
    "ax.set_xlabel('Provisions per weekday')\n",
    "ax.set_xticks(x, labels)\n",
    "ax.legend()\n",
    "\n",
    "fig.tight_layout()\n",
    "\n",
    "plt.show()"
   ]
  },
  {
   "cell_type": "code",
   "execution_count": 38,
   "id": "374d6da6",
   "metadata": {},
   "outputs": [
    {
     "name": "stdout",
     "output_type": "stream",
     "text": [
      "P0: 1 names not resolved\n",
      "P1: 4 names not resolved\n",
      "P2: 0 names not resolved\n"
     ]
    },
    {
     "data": {
      "image/png": "[encoded data removed]",
      "text/plain": [
       "<Figure size 432x288 with 1 Axes>"
      ]
     },
     "metadata": {
      "needs_background": "light"
     },
     "output_type": "display_data"
    }
   ],
   "source": [
    "# Access times\n",
    "\n",
    "accesses_for_measurements = []\n",
    "steps = []\n",
    "not_resolved_for_measurements = []\n",
    "for m in measurements:\n",
    "    accesses = []\n",
    "    not_resolved = 0\n",
    "    for k in m.keys():\n",
    "        for record in m[k]:\n",
    "            if record.get('NameResolveTime'):\n",
    "                accesses.append(record['NameResolveTime'])\n",
    "            else:\n",
    "                not_resolved += 1\n",
    "    accesses_for_measurements.append(np.sort(accesses))\n",
    "    steps.append(np.array(range(len(accesses)))/float(len(accesses)))\n",
    "    not_resolved_for_measurements.append(not_resolved)\n",
    "\n",
    "for i, v in enumerate(not_resolved_for_measurements):\n",
    "    print(f'P{i}: {v} names not resolved')\n",
    "\n",
    "fig, ax = plt.subplots()\n",
    "\n",
    "ax.plot(accesses_for_measurements[0], steps[0], label='P0')\n",
    "ax.plot(accesses_for_measurements[1], steps[1], label='P1')\n",
    "ax.plot(accesses_for_measurements[2], steps[2], label='P2')\n",
    "\n",
    "ax.set_ylabel('Cumulative frequency') # ECDF\n",
    "ax.set_xlabel('Time to resolve name / ms')\n",
    "ax.legend()\n",
    "\n",
    "fig.tight_layout()\n",
    "\n",
    "plt.xscale('log')\n",
    "\n",
    "plt.show()\n"
   ]
  },
  {
   "cell_type": "code",
   "execution_count": 51,
   "id": "b001c48a",
   "metadata": {},
   "outputs": [
    {
     "name": "stdout",
     "output_type": "stream",
     "text": [
      "P0: 23 expired, 20 not expired\n",
      "P0 relative: 0.53 expired, 0.47 not expired\n",
      "P1: 34 expired, 17 not expired\n",
      "P1 relative: 0.67 expired, 0.33 not expired\n",
      "P2: 0 expired, 10 not expired\n",
      "P2 relative: 0.0 expired, 1.0 not expired\n"
     ]
    }
   ],
   "source": [
    "# Expiries\n",
    "\n",
    "expiries = []\n",
    "\n",
    "for i, m in enumerate(measurements):\n",
    "    expired = 0\n",
    "    not_expired = 0\n",
    "    end_time_string = timings[i][1]\n",
    "    end_time = datetime.datetime.fromisoformat(end_time_string)\n",
    "    for records in m.values():\n",
    "        validity = dateutil.parser.parse(records[-1]['Validity'])\n",
    "        if validity < end_time:\n",
    "            expired += 1\n",
    "        else:\n",
    "            not_expired += 1\n",
    "    expiries.append((expired, not_expired))\n",
    "        \n",
    "for i, v in enumerate(expiries):\n",
    "    print(f'P{i}: {v[0]} expired, {v[1]} not expired')\n",
    "    print(f'P{i} relative: {round(v[0] / num_names[i], 2)} expired, {round(v[1] / num_names[i], 2)} not expired')          \n",
    "\n"
   ]
  },
  {
   "cell_type": "code",
   "execution_count": 67,
   "id": "140dcd22",
   "metadata": {},
   "outputs": [
    {
     "name": "stdout",
     "output_type": "stream",
     "text": [
      "P0: 1 expired when received\n",
      "P1: 11 expired when received\n",
      "P2: 0 expired when received\n"
     ]
    },
    {
     "data": {
      "image/png": "[encoded data removed]",
      "text/plain": [
       "<Figure size 432x288 with 1 Axes>"
      ]
     },
     "metadata": {
      "needs_background": "light"
     },
     "output_type": "display_data"
    }
   ],
   "source": [
    "# Lifetimes\n",
    "\n",
    "lifetimes_for_measurements = []\n",
    "steps = []\n",
    "already_expired = []\n",
    "for m in measurements:\n",
    "    lifetime = []\n",
    "    expired = 0\n",
    "    for k in m.keys():\n",
    "        for record in m[k]:\n",
    "            received = dateutil.parser.parse(record['ReceiveTime'])\n",
    "            validity = dateutil.parser.parse(record['Validity'])\n",
    "            hours = (validity - received).seconds / 60 / 60\n",
    "            if hours == 0:\n",
    "                expired += 1\n",
    "            lifetime.append(hours)\n",
    "    lifetimes_for_measurements.append(np.sort(lifetime))\n",
    "    steps.append(np.array(range(len(lifetime)))/float(len(lifetime)))\n",
    "    already_expired.append(expired)\n",
    "\n",
    "for i, v in enumerate(already_expired):\n",
    "    print(f'P{i}: {v} expired when received')\n",
    "    \n",
    "fig, ax = plt.subplots()\n",
    "\n",
    "ax.plot(lifetimes_for_measurements[0], steps[0], label='P0')\n",
    "ax.plot(lifetimes_for_measurements[1], steps[1], label='P1')\n",
    "ax.plot(lifetimes_for_measurements[2], steps[2], label='P2')\n",
    "\n",
    "ax.set_ylabel('Cumulative frequency') # ECDF\n",
    "ax.set_xlabel('Lifetime / h')\n",
    "ax.legend()\n",
    "\n",
    "fig.tight_layout()\n",
    "\n",
    "plt.yscale('log')\n",
    "\n",
    "plt.show()"
   ]
  },
  {
   "cell_type": "code",
   "execution_count": 37,
   "id": "186379a2",
   "metadata": {},
   "outputs": [
    {
     "name": "stdout",
     "output_type": "stream",
     "text": [
      "P0: 119 retrievable, 57 not retrievable\n",
      "P0 relative: 0.68 retrievable, 0.32 not retrievable\n",
      "P1: 261 retrievable, 37 not retrievable\n",
      "P1 relative: 0.88 retrievable, 0.12 not retrievable\n",
      "P2: 25 retrievable, 4 not retrievable\n",
      "P2 relative: 0.86 retrievable, 0.14 not retrievable\n"
     ]
    }
   ],
   "source": [
    "# Content retrievability\n",
    "\n",
    "retrievability = []\n",
    "for m in measurements:\n",
    "    retrievable = 0\n",
    "    not_retrievable = 0\n",
    "    for k in m.keys():\n",
    "        for record in m[k]:\n",
    "            if record.get('ContentUnreachable'):\n",
    "                not_retrievable += 1\n",
    "            else: \n",
    "                retrievable += 1\n",
    "    retrievability.append((retrievable, not_retrievable))\n",
    "    \n",
    "for i, v in enumerate(retrievability):\n",
    "    print(f'P{i}: {v[0]} retrievable, {v[1]} not retrievable')\n",
    "    print(f'P{i} relative: {round(v[0] / num_received_records[i], 2)} retrievable, {round(v[1] / num_received_records[i], 2)} not retrievable')"
   ]
  }
 ],
 "metadata": {
  "kernelspec": {
   "display_name": "Python 3.8.10 64-bit",
   "language": "python",
   "name": "python3"
  },
  "language_info": {
   "codemirror_mode": {
    "name": "ipython",
    "version": 3
   },
   "file_extension": ".py",
   "mimetype": "text/x-python",
   "name": "python",
   "nbconvert_exporter": "python",
   "pygments_lexer": "ipython3",
   "version": "3.8.10"
  },
  "vscode": {
   "interpreter": {
    "hash": "e7370f93d1d0cde622a1f8e1c04877d8463912d04d973331ad4851f04de6915a"
   }
  }
 },
 "nbformat": 4,
 "nbformat_minor": 5
}
