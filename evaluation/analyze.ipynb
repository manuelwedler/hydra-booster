{
 "cells": [
  {
   "cell_type": "code",
   "execution_count": 1,
   "id": "1916ee7a",
   "metadata": {},
   "outputs": [],
   "source": [
    "# Imports\n",
    "import plyvel\n",
    "import json\n",
    "import re\n",
    "import matplotlib.pyplot as plt\n",
    "import numpy as np"
   ]
  },
  {
   "cell_type": "code",
   "execution_count": 2,
   "id": "7e2087d2",
   "metadata": {},
   "outputs": [],
   "source": [
    "# Load data\n",
    "M01_PATH = '../hydra-data/ipns-export-M01'\n",
    "M02_PATH = '../hydra-data/ipns-export-M02'\n",
    "M03_PATH = '../hydra-data/ipns-export-M03'\n",
    "\n",
    "measurements = []\n",
    "for path in [M01_PATH, M02_PATH, M03_PATH]:\n",
    "    db = plyvel.DB(path)\n",
    "    try:\n",
    "        names = {}\n",
    "        for k, v in db:\n",
    "            key = k.decode('utf-8')\n",
    "            # only take versioned entry\n",
    "            match = re.search('/[0-9]+$', key)\n",
    "            if match:\n",
    "                record = json.loads(v)\n",
    "                record['version'] = int(match.group(0)[1:])\n",
    "                if not names.get(record['Name']):\n",
    "                    names[record['Name']] = []\n",
    "                names[record['Name']].append(record)\n",
    "        for name in names.keys():\n",
    "            names[name].sort(key=lambda n: n['version'])\n",
    "        measurements.append(names)\n",
    "    finally:\n",
    "        db.close()"
   ]
  },
  {
   "cell_type": "code",
   "execution_count": 15,
   "id": "f918688b",
   "metadata": {},
   "outputs": [
    {
     "name": "stdout",
     "output_type": "stream",
     "text": [
      "max update times:  43\n"
     ]
    },
    {
     "data": {
      "image/png": "[encoded data removed]",
      "text/plain": [
       "<Figure size 432x288 with 1 Axes>"
      ]
     },
     "metadata": {
      "needs_background": "light"
     },
     "output_type": "display_data"
    }
   ],
   "source": [
    "# Update times\n",
    "max_times = 0\n",
    "for m in measurements:\n",
    "    for k in m.keys():\n",
    "        num_updates = len(m[k]) - 1\n",
    "        if num_updates > max_times:\n",
    "            max_times = num_updates\n",
    "\n",
    "print('max update times: ', max_times)\n",
    "\n",
    "labels = [*range(7), '6 or more']\n",
    "updates_for_measurements = []\n",
    "\n",
    "for m in measurements:\n",
    "    updates = []\n",
    "    for _ in range(8):\n",
    "        updates.append(0)\n",
    "\n",
    "    for k in m.keys():\n",
    "        num_updates = len(m[k]) - 1\n",
    "        if num_updates < len(labels):\n",
    "            updates[num_updates] += 1\n",
    "        else:\n",
    "            updates[-1] += 1\n",
    "    \n",
    "    updates_for_measurements.append(updates)\n",
    "\n",
    "x = np.arange(len(labels))\n",
    "width = 0.3\n",
    "\n",
    "fig, ax = plt.subplots()\n",
    "rects1 = ax.bar(x - width, updates_for_measurements[0], width, label='P0')\n",
    "rects2 = ax.bar(x, updates_for_measurements[1], width, label='P1')\n",
    "rects2 = ax.bar(x + width, updates_for_measurements[2], width, label='P2')\n",
    "\n",
    "ax.set_ylabel('Number of names')\n",
    "ax.set_xlabel('Update times')\n",
    "ax.set_xticks(x, labels)\n",
    "ax.legend()\n",
    "\n",
    "ax.bar_label(rects1)\n",
    "ax.bar_label(rects2)\n",
    "\n",
    "fig.tight_layout()\n",
    "\n",
    "plt.show()"
   ]
  }
 ],
 "metadata": {
  "kernelspec": {
   "display_name": "Python 3.8.10 64-bit",
   "language": "python",
   "name": "python3"
  },
  "language_info": {
   "codemirror_mode": {
    "name": "ipython",
    "version": 3
   },
   "file_extension": ".py",
   "mimetype": "text/x-python",
   "name": "python",
   "nbconvert_exporter": "python",
   "pygments_lexer": "ipython3",
   "version": "3.8.10"
  },
  "vscode": {
   "interpreter": {
    "hash": "e7370f93d1d0cde622a1f8e1c04877d8463912d04d973331ad4851f04de6915a"
   }
  }
 },
 "nbformat": 4,
 "nbformat_minor": 5
}
